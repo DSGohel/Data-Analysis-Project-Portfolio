{
 "cells": [
  {
   "cell_type": "markdown",
   "id": "83de0ac3-c7f7-4955-82df-7d9905bf968b",
   "metadata": {},
   "source": [
    "## Importing Libraries"
   ]
  },
  {
   "cell_type": "code",
   "execution_count": 1,
   "id": "72fbda11-79d4-4a56-a11c-b15d251761ce",
   "metadata": {},
   "outputs": [],
   "source": [
    "from bs4 import BeautifulSoup\n",
    "import requests\n",
    "import smtplib\n",
    "import time\n",
    "import datetime"
   ]
  },
  {
   "cell_type": "markdown",
   "id": "cf04c398-6b2b-435d-94c5-a5fe8274ac5a",
   "metadata": {},
   "source": [
    "## Connect to Website and pull in data"
   ]
  },
  {
   "cell_type": "code",
   "execution_count": 19,
   "id": "f3f59b20-5e53-4dbf-926d-9693f7c50551",
   "metadata": {},
   "outputs": [],
   "source": [
    "URL = 'https://www.amazon.ca/Microsoft-RRT-00001-Xbox-Series-X/dp/B08H75RTZ8/ref=sr_1_2?_encoding=UTF8&brr=1&rd=1&s=videogames&sr=1-2'\n",
    "\n",
    "headers = {\"User-Agent\": \"Mozilla/5.0 (Windows NT 10.0; Win64; x64) AppleWebKit/537.36 (KHTML, like Gecko) Chrome/78.0.3904.108 Safari/537.36\", \n",
    "           \"Accept-Encoding\":\"gzip, deflate\", \"Accept\":\"text/html,application/xhtml+xml,application/xml;q=0.9,*/*;q=0.8\", \n",
    "           \"DNT\":\"1\",\"Connection\":\"close\", \"Upgrade-Insecure-Requests\":\"1\"}\n",
    "\n",
    "# Fetch the webpage content\n",
    "page = requests.get(URL, headers=headers)\n",
    "\n",
    "# Parse the content using BeautifulSoup\n",
    "soup1 = BeautifulSoup(page.content, \"html.parser\")\n",
    "soup2 = BeautifulSoup(soup1.prettify(), \"html.parser\")\n",
    "\n",
    "# Extract the title and price\n",
    "title = soup2.find(id='productTitle').get_text().strip()\n",
    "price = soup2.find('span', class_='aok-offscreen').get_text().strip()[1:]"
   ]
  },
  {
   "cell_type": "code",
   "execution_count": 20,
   "id": "e3b271d9-8eaa-4039-82b0-59c09e3f1bd3",
   "metadata": {},
   "outputs": [
    {
     "name": "stdout",
     "output_type": "stream",
     "text": [
      "Product Title: Xbox Series X Console\n",
      "Product Price: 644.99\n"
     ]
    }
   ],
   "source": [
    "# Print the extracted data in an organized manner\n",
    "print(f\"Product Title: {title}\")\n",
    "print(f\"Product Price: {price}\")"
   ]
  },
  {
   "cell_type": "code",
   "execution_count": 21,
   "id": "9b097d0d-e464-4259-92d8-ad9947a02b51",
   "metadata": {},
   "outputs": [
    {
     "name": "stdout",
     "output_type": "stream",
     "text": [
      "2024-01-08\n"
     ]
    }
   ],
   "source": [
    "# Create a Timestamp for your output to track when data was collected\n",
    "import datetime\n",
    "today = datetime.date.today()\n",
    "print(today)"
   ]
  },
  {
   "cell_type": "markdown",
   "id": "f916163e-bffe-40c5-9781-cb2e861d7819",
   "metadata": {},
   "source": [
    "## Create CSV and write headers and data into the file"
   ]
  },
  {
   "cell_type": "code",
   "execution_count": 22,
   "id": "53616e06-847c-40d1-bf1b-a59faed3f2bb",
   "metadata": {},
   "outputs": [],
   "source": [
    "import csv \n",
    "\n",
    "header = ['Title', 'Price', 'Date']\n",
    "data = [title, price, today]\n",
    "\n",
    "with open('AmazonWebScraperDataset.csv', 'w', newline='', encoding='UTF8') as f:\n",
    "    writer = csv.writer(f)\n",
    "    writer.writerow(header)\n",
    "    writer.writerow(data)"
   ]
  },
  {
   "cell_type": "code",
   "execution_count": 23,
   "id": "d4af48b8-935c-4979-a7ea-513599a85e3c",
   "metadata": {},
   "outputs": [
    {
     "name": "stdout",
     "output_type": "stream",
     "text": [
      "                   Title   Price        Date\n",
      "0  Xbox Series X Console  644.99  2024-01-08\n"
     ]
    }
   ],
   "source": [
    "import pandas as pd\n",
    "df = pd.read_csv(r'C:\\Users\\uramp\\Amazon Web Scraper\\AmazonWebScraperDataset.csv')\n",
    "print(df)"
   ]
  },
  {
   "cell_type": "code",
   "execution_count": 26,
   "id": "3f6a5e34-0b9b-4578-bfb4-4453a2df6460",
   "metadata": {},
   "outputs": [],
   "source": [
    "#Appending data to the csv\n",
    "with open('AmazonWebScraperDataset.csv', 'a+', newline='', encoding='UTF8') as f:\n",
    "    writer = csv.writer(f)\n",
    "    writer.writerow(data)"
   ]
  },
  {
   "cell_type": "markdown",
   "id": "b030306c-ceda-48c6-a4d0-158227eed166",
   "metadata": {},
   "source": [
    "## Creating a Function"
   ]
  },
  {
   "cell_type": "code",
   "execution_count": 27,
   "id": "17712bc6-6ff4-449d-98ee-8afcd3983ad5",
   "metadata": {},
   "outputs": [],
   "source": [
    "#Combine all of the above code into one function\n",
    "\n",
    "\n",
    "def check_price():\n",
    "    URL = 'https://www.amazon.ca/Microsoft-RRT-00001-Xbox-Series-X/dp/B08H75RTZ8/ref=sr_1_2?_encoding=UTF8&brr=1&rd=1&s=videogames&sr=1-2'\n",
    "\n",
    "    headers = {\"User-Agent\": \"Mozilla/5.0 (Windows NT 10.0; Win64; x64) AppleWebKit/537.36 (KHTML, like Gecko) Chrome/78.0.3904.108 Safari/537.36\", \n",
    "           \"Accept-Encoding\":\"gzip, deflate\", \"Accept\":\"text/html,application/xhtml+xml,application/xml;q=0.9,*/*;q=0.8\", \n",
    "           \"DNT\":\"1\",\"Connection\":\"close\", \"Upgrade-Insecure-Requests\":\"1\"}\n",
    "\n",
    "    # Fetch the webpage content\n",
    "    page = requests.get(URL, headers=headers)\n",
    "\n",
    "    # Parse the content using BeautifulSoup\n",
    "    soup1 = BeautifulSoup(page.content, \"html.parser\")\n",
    "    soup2 = BeautifulSoup(soup1.prettify(), \"html.parser\")\n",
    "\n",
    "    # Extract the title and price\n",
    "    title = soup2.find(id='productTitle').get_text().strip()\n",
    "    price = soup2.find('span', class_='aok-offscreen').get_text().strip()[1:]\n",
    "\n",
    "    import datetime\n",
    "    today = datetime.date.today()\n",
    "    \n",
    "    import csv \n",
    "    header = ['Title', 'Price', 'Date']\n",
    "    data = [title, price, today]\n",
    "    with open('AmazonWebScraperDataset.csv', 'a+', newline='', encoding='UTF8') as f:\n",
    "        writer = csv.writer(f)\n",
    "        writer.writerow(data)"
   ]
  },
  {
   "cell_type": "code",
   "execution_count": null,
   "id": "db1b8a7b-d7c8-4ba6-9ffb-8f650e9a4094",
   "metadata": {},
   "outputs": [],
   "source": [
    "# Runs check_price after a set time and inputs data into your CSV\n",
    "while(True):\n",
    "    check_price()\n",
    "    time.sleep(86400) # Change this number of seconds to set time"
   ]
  },
  {
   "cell_type": "markdown",
   "id": "77cb7f89-f08a-4d84-9104-63b5424dec1b",
   "metadata": {},
   "source": [
    "### Set this if you want an e-mail notification update on the price"
   ]
  },
  {
   "cell_type": "code",
   "execution_count": null,
   "id": "71fca3b1-d038-49a4-a72a-0a5e0fa66ea2",
   "metadata": {},
   "outputs": [],
   "source": [
    "# You can send yourself an e-mail when a price hits below a certain level\n",
    "\n",
    "def send_mail():\n",
    "    server = smtplib.SMTP_SSL('smtp.gmail.com',465)\n",
    "    server.ehlo()\n",
    "    #server.starttls()\n",
    "    server.ehlo()\n",
    "    server.login('dhaivatgohelcareer@gmail.com','xxxxxxxxxxxxxx')\n",
    "    \n",
    "    subject = \"The price is below your set price! Now is your chance to buy!\"\n",
    "    body = \"Hey, This is the moment we have been waiting for. Now is your chance to pick up. Don't mess it up! Link here: https://www.amazon.ca/Microsoft-RRT-00001-Xbox-Series-X/dp/B08H75RTZ8/ref=sr_1_2?_encoding=UTF8&brr=1&rd=1&s=videogames&sr=1-2\"\n",
    "   \n",
    "    msg = f\"Subject: {subject}\\n\\n{body}\"\n",
    "    \n",
    "    server.sendmail(\n",
    "        'dhaivatgohelcareer@gmail.com',\n",
    "        msg\n",
    "     \n",
    "    )"
   ]
  }
 ],
 "metadata": {
  "kernelspec": {
   "display_name": "Python 3 (ipykernel)",
   "language": "python",
   "name": "python3"
  },
  "language_info": {
   "codemirror_mode": {
    "name": "ipython",
    "version": 3
   },
   "file_extension": ".py",
   "mimetype": "text/x-python",
   "name": "python",
   "nbconvert_exporter": "python",
   "pygments_lexer": "ipython3",
   "version": "3.11.5"
  }
 },
 "nbformat": 4,
 "nbformat_minor": 5
}
